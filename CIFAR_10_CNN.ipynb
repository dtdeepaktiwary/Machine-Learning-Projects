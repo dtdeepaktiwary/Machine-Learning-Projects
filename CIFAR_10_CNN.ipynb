{
  "nbformat": 4,
  "nbformat_minor": 0,
  "metadata": {
    "colab": {
      "provenance": [],
      "gpuType": "T4",
      "cell_execution_strategy": "setup"
    },
    "kernelspec": {
      "name": "python3",
      "display_name": "Python 3"
    },
    "language_info": {
      "name": "python"
    },
    "accelerator": "GPU"
  },
  "cells": [
    {
      "cell_type": "markdown",
      "source": [
        "# CIFAR-10 Dataset CNN Classification Model"
      ],
      "metadata": {
        "id": "bRJlTGVaiWP6"
      }
    },
    {
      "cell_type": "code",
      "execution_count": 21,
      "metadata": {
        "id": "_4cBCbJhiIIt"
      },
      "outputs": [],
      "source": [
        "import numpy as np\n",
        "import pandas as pd\n",
        "import matplotlib.pyplot as plt\n",
        "import seaborn as sns\n",
        "import keras\n",
        "from sklearn.model_selection import train_test_split\n",
        "from sklearn.preprocessing import StandardScaler,MinMaxScaler,LabelEncoder\n",
        "from sklearn.metrics import accuracy_score,confusion_matrix,classification_report,mean_squared_error\n",
        "from keras.models import Sequential\n",
        "from keras.layers import Dense,Conv2D,MaxPooling2D,Flatten,BatchNormalization,Dropout\n",
        "from keras.optimizers import Adam,Adagrad"
      ]
    },
    {
      "cell_type": "code",
      "source": [
        "from keras.datasets import cifar10\n",
        "data=cifar10.load_data()"
      ],
      "metadata": {
        "id": "nyR_6jRKiLdS"
      },
      "execution_count": 22,
      "outputs": []
    },
    {
      "cell_type": "code",
      "source": [
        "(X_train, y_train), (X_test, y_test)=data"
      ],
      "metadata": {
        "id": "18IfS03MiTEb"
      },
      "execution_count": 23,
      "outputs": []
    },
    {
      "cell_type": "code",
      "source": [
        "# The classes are:\n",
        "# Label\tDescription\n",
        "# 0\tairplane\n",
        "# 1\tautomobile\n",
        "# 2\tbird\n",
        "# 3\tcat\n",
        "# 4\tdeer\n",
        "# 5\tdog\n",
        "# 6\tfrog\n",
        "# 7\thorse\n",
        "# 8\tship\n",
        "# 9\ttruck"
      ],
      "metadata": {
        "id": "0MmeU_qXicRO"
      },
      "execution_count": 24,
      "outputs": []
    },
    {
      "cell_type": "code",
      "source": [
        "# Checking the shape of the data\n",
        "print(X_train.shape)\n",
        "print(X_test.shape)\n",
        "print(y_train.shape)\n",
        "print(y_test.shape)\n",
        "\n",
        "print()\n",
        "print()\n",
        "\n",
        "print(y_train[0])\n",
        "print(y_train[1])\n",
        "print(y_train[2])\n",
        "print(y_train[3])"
      ],
      "metadata": {
        "colab": {
          "base_uri": "https://localhost:8080/"
        },
        "id": "ms-GieBMifyJ",
        "outputId": "57e1ca3a-5ed2-4178-a7a9-44c75a7bc378"
      },
      "execution_count": 25,
      "outputs": [
        {
          "output_type": "stream",
          "name": "stdout",
          "text": [
            "(50000, 32, 32, 3)\n",
            "(10000, 32, 32, 3)\n",
            "(50000, 1)\n",
            "(10000, 1)\n",
            "\n",
            "\n",
            "[6]\n",
            "[9]\n",
            "[9]\n",
            "[4]\n"
          ]
        }
      ]
    },
    {
      "cell_type": "code",
      "source": [
        "from tensorflow.keras.utils import to_categorical\n",
        "\n",
        "\n",
        "y_train = to_categorical(y_train, 10)\n",
        "y_test = to_categorical(y_test, 10)"
      ],
      "metadata": {
        "id": "Cnx-kXkc66Np"
      },
      "execution_count": 26,
      "outputs": []
    },
    {
      "cell_type": "code",
      "source": [
        "plt.figure(figsize=(2,2))\n",
        "plt.imshow(X_train[1],extent=(0,32,0,32),cmap='gray')"
      ],
      "metadata": {
        "colab": {
          "base_uri": "https://localhost:8080/",
          "height": 231
        },
        "id": "Ska5pHCyipCK",
        "outputId": "1d19828f-a775-43e8-f3d6-2f7bacf210e0"
      },
      "execution_count": 27,
      "outputs": [
        {
          "output_type": "execute_result",
          "data": {
            "text/plain": [
              "<matplotlib.image.AxesImage at 0x7a4d05efa860>"
            ]
          },
          "metadata": {},
          "execution_count": 27
        },
        {
          "output_type": "display_data",
          "data": {
            "text/plain": [
              "<Figure size 200x200 with 1 Axes>"
            ],
            "image/png": "[encoded data removed]"
          },
          "metadata": {}
        }
      ]
    },
    {
      "cell_type": "code",
      "source": [
        "# Normalising the data\n",
        "\n",
        "X_train = X_train/255\n",
        "X_test = X_test/255"
      ],
      "metadata": {
        "id": "Gm3zurG0jNmy"
      },
      "execution_count": 28,
      "outputs": []
    },
    {
      "cell_type": "code",
      "source": [
        "# Reshaping the data as CNN model accepts input in a particular shape only\n",
        "\n",
        "# X_train = np.expand_dims(X_train,-1)\n",
        "# X_test = np.expand_dims(X_test,-1)"
      ],
      "metadata": {
        "id": "o6clsKe6jRUN"
      },
      "execution_count": 29,
      "outputs": []
    },
    {
      "cell_type": "code",
      "source": [
        "print(X_train.shape)\n",
        "print(X_test.shape)"
      ],
      "metadata": {
        "colab": {
          "base_uri": "https://localhost:8080/"
        },
        "id": "4zANv1cujUNu",
        "outputId": "2e355098-de22-4579-c2da-bf2650ab11eb"
      },
      "execution_count": 30,
      "outputs": [
        {
          "output_type": "stream",
          "name": "stdout",
          "text": [
            "(50000, 32, 32, 3)\n",
            "(10000, 32, 32, 3)\n"
          ]
        }
      ]
    },
    {
      "cell_type": "code",
      "source": [
        "X_train,X_val,y_train,y_val=train_test_split(X_train,y_train,test_size=0.1)"
      ],
      "metadata": {
        "id": "wVV6JBaD0aWI"
      },
      "execution_count": 31,
      "outputs": []
    },
    {
      "cell_type": "code",
      "source": [
        "X_train.shape,X_val.shape,y_train.shape,y_val.shape"
      ],
      "metadata": {
        "colab": {
          "base_uri": "https://localhost:8080/"
        },
        "id": "p6qXMzCz0sE9",
        "outputId": "00842d04-9241-4f0d-8f98-98967285c01f"
      },
      "execution_count": 32,
      "outputs": [
        {
          "output_type": "execute_result",
          "data": {
            "text/plain": [
              "((45000, 32, 32, 3), (5000, 32, 32, 3), (45000, 10), (5000, 10))"
            ]
          },
          "metadata": {},
          "execution_count": 32
        }
      ]
    },
    {
      "cell_type": "markdown",
      "source": [
        "# Building our CNN Model"
      ],
      "metadata": {
        "id": "91a9dwJvjaah"
      }
    },
    {
      "cell_type": "code",
      "source": [
        "model=keras.models.Sequential([\n",
        "                        keras.layers.Conv2D(filters=32,kernel_size=3,strides=(1,1),activation='relu',padding='same',input_shape=[32,32,3]),\n",
        "                        keras.layers.MaxPooling2D(pool_size=(2,2)),\n",
        "\n",
        "\n",
        "                        #Adding the second convulational layer\n",
        "                        keras.layers.Conv2D(filters=64,kernel_size=3,strides=(1,1),activation='relu',padding='same'),\n",
        "                        keras.layers.MaxPooling2D(pool_size=(2,2)),\n",
        "\n",
        "\n",
        "                         #Adding the third convulational layer\n",
        "                        keras.layers.Conv2D(filters=64,kernel_size=3,strides=(1,1),activation='relu',padding='same'),\n",
        "                        keras.layers.MaxPooling2D(pool_size=(2,2)),\n",
        "                        keras.layers.Flatten(),\n",
        "\n",
        "                        # Adding hidden layer\n",
        "                        keras.layers.Dense(units=128,activation='relu'),\n",
        "                        keras.layers.BatchNormalization(),\n",
        "                        keras.layers.Dropout(rate=0.1),\n",
        "                        keras.layers.Dense(units=256,activation='relu'),\n",
        "                        keras.layers.BatchNormalization(),\n",
        "                        keras.layers.Dense(units=512,activation='relu'),\n",
        "                        keras.layers.BatchNormalization(),\n",
        "                        keras.layers.Dropout(rate=0.1),\n",
        "\n",
        "\n",
        "                        # Adding the output layer\n",
        "                        keras.layers.Dense(units=10,activation='softmax')\n",
        "                        ])"
      ],
      "metadata": {
        "id": "YxiZ8EO7jXeU"
      },
      "execution_count": 33,
      "outputs": []
    },
    {
      "cell_type": "code",
      "source": [
        "model.summary()"
      ],
      "metadata": {
        "colab": {
          "base_uri": "https://localhost:8080/"
        },
        "id": "W4QZYBgmjhyM",
        "outputId": "6c21b9a4-7ec6-484a-9675-66c55e84d17c"
      },
      "execution_count": 34,
      "outputs": [
        {
          "output_type": "stream",
          "name": "stdout",
          "text": [
            "Model: \"sequential_1\"\n",
            "_________________________________________________________________\n",
            " Layer (type)                Output Shape              Param #   \n",
            "=================================================================\n",
            " conv2d_3 (Conv2D)           (None, 32, 32, 32)        896       \n",
            "                                                                 \n",
            " max_pooling2d_3 (MaxPoolin  (None, 16, 16, 32)        0         \n",
            " g2D)                                                            \n",
            "                                                                 \n",
            " conv2d_4 (Conv2D)           (None, 16, 16, 64)        18496     \n",
            "                                                                 \n",
            " max_pooling2d_4 (MaxPoolin  (None, 8, 8, 64)          0         \n",
            " g2D)                                                            \n",
            "                                                                 \n",
            " conv2d_5 (Conv2D)           (None, 8, 8, 64)          36928     \n",
            "                                                                 \n",
            " max_pooling2d_5 (MaxPoolin  (None, 4, 4, 64)          0         \n",
            " g2D)                                                            \n",
            "                                                                 \n",
            " flatten_1 (Flatten)         (None, 1024)              0         \n",
            "                                                                 \n",
            " dense_4 (Dense)             (None, 128)               131200    \n",
            "                                                                 \n",
            " batch_normalization_3 (Bat  (None, 128)               512       \n",
            " chNormalization)                                                \n",
            "                                                                 \n",
            " dropout_2 (Dropout)         (None, 128)               0         \n",
            "                                                                 \n",
            " dense_5 (Dense)             (None, 256)               33024     \n",
            "                                                                 \n",
            " batch_normalization_4 (Bat  (None, 256)               1024      \n",
            " chNormalization)                                                \n",
            "                                                                 \n",
            " dense_6 (Dense)             (None, 512)               131584    \n",
            "                                                                 \n",
            " batch_normalization_5 (Bat  (None, 512)               2048      \n",
            " chNormalization)                                                \n",
            "                                                                 \n",
            " dropout_3 (Dropout)         (None, 512)               0         \n",
            "                                                                 \n",
            " dense_7 (Dense)             (None, 10)                5130      \n",
            "                                                                 \n",
            "=================================================================\n",
            "Total params: 360842 (1.38 MB)\n",
            "Trainable params: 359050 (1.37 MB)\n",
            "Non-trainable params: 1792 (7.00 KB)\n",
            "_________________________________________________________________\n"
          ]
        }
      ]
    },
    {
      "cell_type": "code",
      "source": [
        "#Compiling the model\n",
        "\n",
        "optm=keras.optimizers.Adam(learning_rate=0.0001)\n",
        "model.compile(optimizer=optm,loss='categorical_crossentropy',metrics=['accuracy'])\n",
        "\n",
        "# Data Augumentation is necessary technique to avoid the overfitting\n",
        "from tensorflow.keras.preprocessing.image import ImageDataGenerator\n",
        "\n",
        "datagen = ImageDataGenerator(rotation_range=13, zoom_range=0.11, width_shift_range=0.1, height_shift_range=0.1)\n",
        "train_generator=  datagen.flow(X_train,y_train)"
      ],
      "metadata": {
        "id": "s8cUadhvjpgc"
      },
      "execution_count": 35,
      "outputs": []
    },
    {
      "cell_type": "code",
      "source": [
        "# Training the model using the Fit method\n",
        "\n",
        "\n",
        "\n",
        "model.fit(train_generator,epochs=40,batch_size=500,validation_data=(X_val,y_val))"
      ],
      "metadata": {
        "colab": {
          "base_uri": "https://localhost:8080/"
        },
        "id": "l-AKHob5jtgf",
        "outputId": "0fd74792-f9f7-4446-ad43-02d880435106"
      },
      "execution_count": 36,
      "outputs": [
        {
          "output_type": "stream",
          "name": "stdout",
          "text": [
            "Epoch 1/40\n",
            "1407/1407 [==============================] - 43s 26ms/step - loss: 1.9103 - accuracy: 0.3374 - val_loss: 1.7021 - val_accuracy: 0.4088\n",
            "Epoch 2/40\n",
            "1407/1407 [==============================] - 36s 26ms/step - loss: 1.5757 - accuracy: 0.4403 - val_loss: 1.4162 - val_accuracy: 0.5062\n",
            "Epoch 3/40\n",
            "1407/1407 [==============================] - 35s 25ms/step - loss: 1.4265 - accuracy: 0.4937 - val_loss: 1.2616 - val_accuracy: 0.5520\n",
            "Epoch 4/40\n",
            "1407/1407 [==============================] - 33s 24ms/step - loss: 1.3254 - accuracy: 0.5254 - val_loss: 1.3164 - val_accuracy: 0.5494\n",
            "Epoch 5/40\n",
            "1407/1407 [==============================] - 34s 24ms/step - loss: 1.2524 - accuracy: 0.5547 - val_loss: 1.2850 - val_accuracy: 0.5462\n",
            "Epoch 6/40\n",
            "1407/1407 [==============================] - 34s 24ms/step - loss: 1.1811 - accuracy: 0.5800 - val_loss: 1.0473 - val_accuracy: 0.6324\n",
            "Epoch 7/40\n",
            "1407/1407 [==============================] - 35s 25ms/step - loss: 1.1403 - accuracy: 0.5940 - val_loss: 1.0147 - val_accuracy: 0.6400\n",
            "Epoch 8/40\n",
            "1407/1407 [==============================] - 34s 24ms/step - loss: 1.0950 - accuracy: 0.6121 - val_loss: 1.0774 - val_accuracy: 0.6220\n",
            "Epoch 9/40\n",
            "1407/1407 [==============================] - 37s 26ms/step - loss: 1.0595 - accuracy: 0.6247 - val_loss: 0.9469 - val_accuracy: 0.6686\n",
            "Epoch 10/40\n",
            "1407/1407 [==============================] - 33s 24ms/step - loss: 1.0220 - accuracy: 0.6378 - val_loss: 0.9559 - val_accuracy: 0.6602\n",
            "Epoch 11/40\n",
            "1407/1407 [==============================] - 34s 25ms/step - loss: 0.9885 - accuracy: 0.6496 - val_loss: 0.8784 - val_accuracy: 0.6890\n",
            "Epoch 12/40\n",
            "1407/1407 [==============================] - 33s 24ms/step - loss: 0.9621 - accuracy: 0.6584 - val_loss: 0.8788 - val_accuracy: 0.6826\n",
            "Epoch 13/40\n",
            "1407/1407 [==============================] - 33s 24ms/step - loss: 0.9371 - accuracy: 0.6650 - val_loss: 0.9356 - val_accuracy: 0.6720\n",
            "Epoch 14/40\n",
            "1407/1407 [==============================] - 35s 25ms/step - loss: 0.9228 - accuracy: 0.6748 - val_loss: 1.0719 - val_accuracy: 0.6380\n",
            "Epoch 15/40\n",
            "1407/1407 [==============================] - 33s 24ms/step - loss: 0.9019 - accuracy: 0.6821 - val_loss: 0.7885 - val_accuracy: 0.7166\n",
            "Epoch 16/40\n",
            "1407/1407 [==============================] - 35s 25ms/step - loss: 0.8832 - accuracy: 0.6895 - val_loss: 0.9059 - val_accuracy: 0.6820\n",
            "Epoch 17/40\n",
            "1407/1407 [==============================] - 34s 24ms/step - loss: 0.8608 - accuracy: 0.6940 - val_loss: 0.7730 - val_accuracy: 0.7238\n",
            "Epoch 18/40\n",
            "1407/1407 [==============================] - 35s 25ms/step - loss: 0.8498 - accuracy: 0.7010 - val_loss: 0.8555 - val_accuracy: 0.7022\n",
            "Epoch 19/40\n",
            "1407/1407 [==============================] - 35s 25ms/step - loss: 0.8277 - accuracy: 0.7090 - val_loss: 0.8025 - val_accuracy: 0.7210\n",
            "Epoch 20/40\n",
            "1407/1407 [==============================] - 35s 25ms/step - loss: 0.8135 - accuracy: 0.7132 - val_loss: 0.7875 - val_accuracy: 0.7174\n",
            "Epoch 21/40\n",
            "1407/1407 [==============================] - 34s 24ms/step - loss: 0.8101 - accuracy: 0.7132 - val_loss: 0.8201 - val_accuracy: 0.7158\n",
            "Epoch 22/40\n",
            "1407/1407 [==============================] - 35s 25ms/step - loss: 0.7953 - accuracy: 0.7183 - val_loss: 0.8251 - val_accuracy: 0.7114\n",
            "Epoch 23/40\n",
            "1407/1407 [==============================] - 36s 26ms/step - loss: 0.7774 - accuracy: 0.7250 - val_loss: 0.8621 - val_accuracy: 0.7034\n",
            "Epoch 24/40\n",
            "1407/1407 [==============================] - 35s 25ms/step - loss: 0.7698 - accuracy: 0.7298 - val_loss: 0.7454 - val_accuracy: 0.7394\n",
            "Epoch 25/40\n",
            "1407/1407 [==============================] - 35s 25ms/step - loss: 0.7519 - accuracy: 0.7363 - val_loss: 0.8682 - val_accuracy: 0.7028\n",
            "Epoch 26/40\n",
            "1407/1407 [==============================] - 35s 25ms/step - loss: 0.7564 - accuracy: 0.7348 - val_loss: 0.7980 - val_accuracy: 0.7266\n",
            "Epoch 27/40\n",
            "1407/1407 [==============================] - 35s 25ms/step - loss: 0.7383 - accuracy: 0.7404 - val_loss: 0.9075 - val_accuracy: 0.6934\n",
            "Epoch 28/40\n",
            "1407/1407 [==============================] - 34s 24ms/step - loss: 0.7345 - accuracy: 0.7405 - val_loss: 0.7364 - val_accuracy: 0.7418\n",
            "Epoch 29/40\n",
            "1407/1407 [==============================] - 34s 24ms/step - loss: 0.7240 - accuracy: 0.7436 - val_loss: 0.6941 - val_accuracy: 0.7544\n",
            "Epoch 30/40\n",
            "1407/1407 [==============================] - 34s 24ms/step - loss: 0.7098 - accuracy: 0.7499 - val_loss: 0.7232 - val_accuracy: 0.7434\n",
            "Epoch 31/40\n",
            "1407/1407 [==============================] - 35s 25ms/step - loss: 0.7024 - accuracy: 0.7535 - val_loss: 0.7525 - val_accuracy: 0.7376\n",
            "Epoch 32/40\n",
            "1407/1407 [==============================] - 33s 24ms/step - loss: 0.6986 - accuracy: 0.7534 - val_loss: 0.7232 - val_accuracy: 0.7452\n",
            "Epoch 33/40\n",
            "1407/1407 [==============================] - 35s 25ms/step - loss: 0.6883 - accuracy: 0.7579 - val_loss: 0.6768 - val_accuracy: 0.7562\n",
            "Epoch 34/40\n",
            "1407/1407 [==============================] - 33s 24ms/step - loss: 0.6865 - accuracy: 0.7573 - val_loss: 0.7092 - val_accuracy: 0.7560\n",
            "Epoch 35/40\n",
            "1407/1407 [==============================] - 34s 24ms/step - loss: 0.6795 - accuracy: 0.7601 - val_loss: 0.8218 - val_accuracy: 0.7224\n",
            "Epoch 36/40\n",
            "1407/1407 [==============================] - 33s 24ms/step - loss: 0.6717 - accuracy: 0.7631 - val_loss: 0.6116 - val_accuracy: 0.7888\n",
            "Epoch 37/40\n",
            "1407/1407 [==============================] - 37s 26ms/step - loss: 0.6591 - accuracy: 0.7675 - val_loss: 0.7644 - val_accuracy: 0.7454\n",
            "Epoch 38/40\n",
            "1407/1407 [==============================] - 34s 24ms/step - loss: 0.6538 - accuracy: 0.7686 - val_loss: 0.7381 - val_accuracy: 0.7488\n",
            "Epoch 39/40\n",
            "1407/1407 [==============================] - 34s 24ms/step - loss: 0.6456 - accuracy: 0.7717 - val_loss: 0.6544 - val_accuracy: 0.7678\n",
            "Epoch 40/40\n",
            "1407/1407 [==============================] - 33s 24ms/step - loss: 0.6413 - accuracy: 0.7742 - val_loss: 0.7078 - val_accuracy: 0.7592\n"
          ]
        },
        {
          "output_type": "execute_result",
          "data": {
            "text/plain": [
              "<keras.src.callbacks.History at 0x7a4d05efadd0>"
            ]
          },
          "metadata": {},
          "execution_count": 36
        }
      ]
    },
    {
      "cell_type": "markdown",
      "source": [
        "# Checking and Testing the model now"
      ],
      "metadata": {
        "id": "8CWAzSgBsrUj"
      }
    },
    {
      "cell_type": "code",
      "source": [
        "# The classes are:\n",
        "class_Label =[\n",
        "'airplane',\n",
        "'automobile',\n",
        "'bird',\n",
        "'cat',\n",
        "'deer',\n",
        "'dog',\n",
        "'frog',\n",
        "'horse',\n",
        "'ship',\n",
        "'truck']"
      ],
      "metadata": {
        "id": "sRAZ3lkXtTla"
      },
      "execution_count": 37,
      "outputs": []
    },
    {
      "cell_type": "code",
      "source": [
        "model.predict(np.expand_dims(X_test[0],axis=0)).round(2)"
      ],
      "metadata": {
        "colab": {
          "base_uri": "https://localhost:8080/"
        },
        "id": "--8asGiPjw1o",
        "outputId": "b5cc2225-a78c-4ca6-c4b5-64fae70490b5"
      },
      "execution_count": 38,
      "outputs": [
        {
          "output_type": "stream",
          "name": "stdout",
          "text": [
            "1/1 [==============================] - 0s 122ms/step\n"
          ]
        },
        {
          "output_type": "execute_result",
          "data": {
            "text/plain": [
              "array([[0.03, 0.01, 0.  , 0.5 , 0.  , 0.18, 0.02, 0.01, 0.2 , 0.04]],\n",
              "      dtype=float32)"
            ]
          },
          "metadata": {},
          "execution_count": 38
        }
      ]
    },
    {
      "cell_type": "code",
      "source": [
        "#This is the predicted value by model\n",
        "np.argmax(model.predict(np.expand_dims(X_test[0],axis=0)).round(2))\n"
      ],
      "metadata": {
        "colab": {
          "base_uri": "https://localhost:8080/"
        },
        "id": "hEIitYkvs31V",
        "outputId": "729fd7d1-ee39-4872-ee54-d40a53d3ed8b"
      },
      "execution_count": 39,
      "outputs": [
        {
          "output_type": "stream",
          "name": "stdout",
          "text": [
            "1/1 [==============================] - 0s 18ms/step\n"
          ]
        },
        {
          "output_type": "execute_result",
          "data": {
            "text/plain": [
              "3"
            ]
          },
          "metadata": {},
          "execution_count": 39
        }
      ]
    },
    {
      "cell_type": "code",
      "source": [
        "#This is the ground reality\n",
        "\n",
        "\n",
        "np.argmax(y_test[0])"
      ],
      "metadata": {
        "colab": {
          "base_uri": "https://localhost:8080/"
        },
        "id": "x4WIS5yytOp8",
        "outputId": "3088f9b6-6726-46cf-ddb7-5939c8266310"
      },
      "execution_count": 40,
      "outputs": [
        {
          "output_type": "execute_result",
          "data": {
            "text/plain": [
              "3"
            ]
          },
          "metadata": {},
          "execution_count": 40
        }
      ]
    },
    {
      "cell_type": "code",
      "source": [
        "# Now we would like to check with some random datapoints in the test data\n",
        "\n",
        "np.argmax(model.predict(np.expand_dims(X_test[123],axis=0)).round(2))\n"
      ],
      "metadata": {
        "colab": {
          "base_uri": "https://localhost:8080/"
        },
        "id": "6YdYbawttf5H",
        "outputId": "6411febb-44e4-483a-b7ff-681f72ebc6cc"
      },
      "execution_count": 41,
      "outputs": [
        {
          "output_type": "stream",
          "name": "stdout",
          "text": [
            "1/1 [==============================] - 0s 17ms/step\n"
          ]
        },
        {
          "output_type": "execute_result",
          "data": {
            "text/plain": [
              "2"
            ]
          },
          "metadata": {},
          "execution_count": 41
        }
      ]
    },
    {
      "cell_type": "code",
      "source": [
        "np.argmax(y_test[123])"
      ],
      "metadata": {
        "colab": {
          "base_uri": "https://localhost:8080/"
        },
        "id": "Es-GxDBRuCsO",
        "outputId": "2b1dddca-8bf9-45c7-f645-12ee219514b0"
      },
      "execution_count": 42,
      "outputs": [
        {
          "output_type": "execute_result",
          "data": {
            "text/plain": [
              "2"
            ]
          },
          "metadata": {},
          "execution_count": 42
        }
      ]
    },
    {
      "cell_type": "code",
      "source": [
        "y_pred=model.predict(X_test).round()\n",
        "y_pred"
      ],
      "metadata": {
        "colab": {
          "base_uri": "https://localhost:8080/"
        },
        "id": "GURerPjcuJW6",
        "outputId": "829a8de8-8a37-4b51-ae69-b7c186392661"
      },
      "execution_count": 43,
      "outputs": [
        {
          "output_type": "stream",
          "name": "stdout",
          "text": [
            "313/313 [==============================] - 1s 3ms/step\n"
          ]
        },
        {
          "output_type": "execute_result",
          "data": {
            "text/plain": [
              "array([[0., 0., 0., ..., 0., 0., 0.],\n",
              "       [0., 0., 0., ..., 0., 1., 0.],\n",
              "       [0., 0., 0., ..., 0., 0., 0.],\n",
              "       ...,\n",
              "       [0., 0., 0., ..., 0., 0., 0.],\n",
              "       [0., 1., 0., ..., 0., 0., 0.],\n",
              "       [0., 0., 0., ..., 1., 0., 0.]], dtype=float32)"
            ]
          },
          "metadata": {},
          "execution_count": 43
        }
      ]
    },
    {
      "cell_type": "code",
      "source": [
        "# Checking the accuracy of the model\n",
        "\n",
        "model.evaluate(X_test,y_test)"
      ],
      "metadata": {
        "colab": {
          "base_uri": "https://localhost:8080/"
        },
        "id": "d77sJAvby4hW",
        "outputId": "69ba66ef-74a8-4b07-9eac-d0dd6c867c64"
      },
      "execution_count": 44,
      "outputs": [
        {
          "output_type": "stream",
          "name": "stdout",
          "text": [
            "313/313 [==============================] - 2s 4ms/step - loss: 0.7221 - accuracy: 0.7562\n"
          ]
        },
        {
          "output_type": "execute_result",
          "data": {
            "text/plain": [
              "[0.7221234440803528, 0.7562000155448914]"
            ]
          },
          "metadata": {},
          "execution_count": 44
        }
      ]
    },
    {
      "cell_type": "code",
      "source": [
        "y_test_labels=[np.argmax(y) for y in y_test]\n",
        "y_pred_labels=[np.argmax(x) for x in y_pred]\n",
        "cm=confusion_matrix(y_test_labels,y_pred_labels)\n",
        "cm"
      ],
      "metadata": {
        "colab": {
          "base_uri": "https://localhost:8080/"
        },
        "id": "SdCVn4wBYs43",
        "outputId": "82a1e697-5f30-4a81-97d8-895573b0b516"
      },
      "execution_count": 45,
      "outputs": [
        {
          "output_type": "execute_result",
          "data": {
            "text/plain": [
              "array([[877,  19,  11,   1,   9,   0,   2,   9,  39,  33],\n",
              "       [ 21, 897,   0,   0,   0,   0,   0,   2,   7,  73],\n",
              "       [273,  11, 539,  10,  55,   5,  40,  50,   6,  11],\n",
              "       [352,  10,  23, 344,  58,  40,  69,  62,  17,  25],\n",
              "       [139,   3,  22,   4, 674,   1,  39, 110,   7,   1],\n",
              "       [309,  12,   8,  78,  29, 433,  21,  91,   5,  14],\n",
              "       [105,   8,  12,   7,  27,   0, 829,   5,   1,   6],\n",
              "       [ 97,   4,   5,   2,  15,   2,   0, 867,   1,   7],\n",
              "       [ 85,  28,   2,   0,   4,   0,   1,   2, 854,  24],\n",
              "       [ 57,  56,   3,   0,   1,   0,   0,   7,  13, 863]])"
            ]
          },
          "metadata": {},
          "execution_count": 45
        }
      ]
    },
    {
      "cell_type": "code",
      "source": [
        "# Plotting the confusion_matrix and checking the points of each classes how accuractely model is predicting\n",
        "\n",
        "plt.figure(figsize=(15,9))\n",
        "y_test_labels=[np.argmax(y) for y in y_test]\n",
        "y_pred_labels=[np.argmax(x) for x in y_pred]\n",
        "cm=confusion_matrix(y_test_labels,y_pred_labels)\n",
        "sns.heatmap(cm,annot=True,fmt='d',xticklabels=class_Label,yticklabels=class_Label)\n"
      ],
      "metadata": {
        "colab": {
          "base_uri": "https://localhost:8080/",
          "height": 770
        },
        "id": "VKoPZU2WzZ2H",
        "outputId": "bd5ff790-5375-42a0-9fc7-e6e00b4e9488"
      },
      "execution_count": 46,
      "outputs": [
        {
          "output_type": "execute_result",
          "data": {
            "text/plain": [
              "<Axes: >"
            ]
          },
          "metadata": {},
          "execution_count": 46
        },
        {
          "output_type": "display_data",
          "data": {
            "text/plain": [
              "<Figure size 1500x900 with 2 Axes>"
            ],
            "image/png": "[encoded data removed]"
          },
          "metadata": {}
        }
      ]
    },
    {
      "cell_type": "code",
      "source": [
        "#checking the report of the model\n",
        "\n",
        "\n",
        "cr=classification_report(y_test_labels,y_pred_labels,target_names=class_Label)\n",
        "print(cr)"
      ],
      "metadata": {
        "colab": {
          "base_uri": "https://localhost:8080/"
        },
        "id": "XivSD8NCT3AF",
        "outputId": "90430255-15c2-405e-bb5c-87341003d7c2"
      },
      "execution_count": 47,
      "outputs": [
        {
          "output_type": "stream",
          "name": "stdout",
          "text": [
            "              precision    recall  f1-score   support\n",
            "\n",
            "    airplane       0.38      0.88      0.53      1000\n",
            "  automobile       0.86      0.90      0.88      1000\n",
            "        bird       0.86      0.54      0.66      1000\n",
            "         cat       0.77      0.34      0.48      1000\n",
            "        deer       0.77      0.67      0.72      1000\n",
            "         dog       0.90      0.43      0.58      1000\n",
            "        frog       0.83      0.83      0.83      1000\n",
            "       horse       0.72      0.87      0.79      1000\n",
            "        ship       0.90      0.85      0.88      1000\n",
            "       truck       0.82      0.86      0.84      1000\n",
            "\n",
            "    accuracy                           0.72     10000\n",
            "   macro avg       0.78      0.72      0.72     10000\n",
            "weighted avg       0.78      0.72      0.72     10000\n",
            "\n"
          ]
        }
      ]
    },
    {
      "cell_type": "code",
      "source": [
        "# Saving the model\n",
        "\n",
        "model.save('/content/CIFAR_10_CNN.h5')"
      ],
      "metadata": {
        "id": "3N-wmBP-WvDQ"
      },
      "execution_count": 51,
      "outputs": []
    },
    {
      "cell_type": "code",
      "source": [
        "model_deploy=keras.models.load_model('/content/CIFAR_10_CNN.h5')"
      ],
      "metadata": {
        "id": "dK9-D4USZFAf"
      },
      "execution_count": 52,
      "outputs": []
    }
  ]
}