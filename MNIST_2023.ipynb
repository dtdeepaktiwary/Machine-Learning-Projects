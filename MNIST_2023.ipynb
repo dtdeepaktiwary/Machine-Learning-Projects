{
  "nbformat": 4,
  "nbformat_minor": 0,
  "metadata": {
    "colab": {
      "provenance": [],
      "gpuType": "T4",
      "cell_execution_strategy": "setup"
    },
    "kernelspec": {
      "name": "python3",
      "display_name": "Python 3"
    },
    "language_info": {
      "name": "python"
    },
    "accelerator": "GPU"
  },
  "cells": [
    {
      "cell_type": "markdown",
      "source": [
        "# Loads the Fashion-MNIST dataset.\n",
        "\n",
        "This is a dataset of 60,000 28x28 grayscale images of 10 fashion categories, along with a test set of 10,000 images. This dataset can be used as a drop-in replacement for MNIST.\n",
        "\n",
        "The classes are:\n",
        "\n",
        "Label\tDescription\n",
        "0\tT-shirt/top\n",
        "1\tTrouser\n",
        "2\tPullover\n",
        "3\tDress\n",
        "4\tCoat\n",
        "5\tSandal\n",
        "6\tShirt\n",
        "7\tSneaker\n",
        "8\tBag\n",
        "9\tAnkle boot"
      ],
      "metadata": {
        "id": "Ikw8FV_8eSGE"
      }
    },
    {
      "cell_type": "code",
      "execution_count": 88,
      "metadata": {
        "id": "Dbi5REmscngq"
      },
      "outputs": [],
      "source": [
        "import numpy as np\n",
        "import pandas as pd\n",
        "import matplotlib.pyplot as plt\n",
        "import seaborn as sns\n",
        "import keras\n",
        "from sklearn.model_selection import train_test_split\n",
        "from sklearn.preprocessing import StandardScaler,MinMaxScaler,LabelEncoder\n",
        "from sklearn.metrics import accuracy_score,confusion_matrix,classification_report,mean_squared_error\n",
        "from keras.models import Sequential\n",
        "from keras.layers import Dense,Conv2D,MaxPooling2D,Flatten,BatchNormalization,Dropout\n",
        "from keras.optimizers import Adam,Adagrad"
      ]
    },
    {
      "cell_type": "code",
      "source": [
        "# Loading the dataset\n",
        "\n",
        "from keras.datasets import fashion_mnist"
      ],
      "metadata": {
        "id": "TxiYnPqQc3i6"
      },
      "execution_count": 89,
      "outputs": []
    },
    {
      "cell_type": "code",
      "source": [
        "(X_train, y_train), (X_test, y_test)=fashion_mnist.load_data()"
      ],
      "metadata": {
        "id": "1hof9vfGdFAh"
      },
      "execution_count": 90,
      "outputs": []
    },
    {
      "cell_type": "code",
      "source": [
        "label_classes = ['T-shirt/top','Trouser','Pullover','Dress','Coat','Sandal','Sneaker','Bag','Ankle boot']\n",
        "\n",
        "\n",
        "# Label\tDescription\n",
        "# 0\tT-shirt/top\n",
        "# 1\tTrouser\n",
        "# 2\tPullover\n",
        "# 3\tDress\n",
        "# 4\tCoat\n",
        "# 5\tSandal\n",
        "# 6\tShirt\n",
        "# 7\tSneaker\n",
        "# 8\tBag\n",
        "# 9\tAnkle boot"
      ],
      "metadata": {
        "id": "ZI2CmMfQtlV7"
      },
      "execution_count": 91,
      "outputs": []
    },
    {
      "cell_type": "code",
      "source": [
        "# Checking the shape of the dataset\n",
        "\n",
        "(X_train.shape, y_train.shape), (X_test.shape, y_test.shape)"
      ],
      "metadata": {
        "colab": {
          "base_uri": "https://localhost:8080/"
        },
        "id": "yguGFrl4djgg",
        "outputId": "9d691034-8947-490a-9b56-d2265ed4b980"
      },
      "execution_count": 92,
      "outputs": [
        {
          "output_type": "execute_result",
          "data": {
            "text/plain": [
              "(((60000, 28, 28), (60000,)), ((10000, 28, 28), (10000,)))"
            ]
          },
          "metadata": {},
          "execution_count": 92
        }
      ]
    },
    {
      "cell_type": "code",
      "source": [
        "plt.figure(figsize=(2,2))\n",
        "\n",
        "plt.imshow(X_train[4],cmap='gray')"
      ],
      "metadata": {
        "colab": {
          "base_uri": "https://localhost:8080/",
          "height": 234
        },
        "id": "4MBOBGmwoyVy",
        "outputId": "09300923-5959-489d-e087-71cebe7dafd5"
      },
      "execution_count": 93,
      "outputs": [
        {
          "output_type": "execute_result",
          "data": {
            "text/plain": [
              "<matplotlib.image.AxesImage at 0x7ccd0edc77f0>"
            ]
          },
          "metadata": {},
          "execution_count": 93
        },
        {
          "output_type": "display_data",
          "data": {
            "text/plain": [
              "<Figure size 200x200 with 1 Axes>"
            ],
            "image/png": "[encoded data removed]"
          },
          "metadata": {}
        }
      ]
    },
    {
      "cell_type": "code",
      "source": [
        "# Label Encoding the labelled data using the to_categorical method\n",
        "\n",
        "from keras.utils import to_categorical\n",
        "\n",
        "y_train = to_categorical(y_train)\n",
        "y_test = to_categorical(y_test)\n",
        "\n",
        "\n"
      ],
      "metadata": {
        "id": "UYtNY30Nd32y"
      },
      "execution_count": 94,
      "outputs": []
    },
    {
      "cell_type": "code",
      "source": [
        "# Normalising the data\n",
        "# np.max(X_train)\n",
        "\n",
        "X_train= X_train/255\n",
        "X_test= X_test/255"
      ],
      "metadata": {
        "id": "1LcPTlL2eAoE"
      },
      "execution_count": 95,
      "outputs": []
    },
    {
      "cell_type": "code",
      "source": [
        "X_train.shape"
      ],
      "metadata": {
        "colab": {
          "base_uri": "https://localhost:8080/"
        },
        "id": "jp-7IxvggNU0",
        "outputId": "27ea8cd3-a703-4dad-99d7-3dbb0288d8c6"
      },
      "execution_count": 96,
      "outputs": [
        {
          "output_type": "execute_result",
          "data": {
            "text/plain": [
              "(60000, 28, 28)"
            ]
          },
          "metadata": {},
          "execution_count": 96
        }
      ]
    },
    {
      "cell_type": "code",
      "source": [
        "# Reshaping the data into a specific shape as CNN model always accepts data into a desired shape only\n",
        "\n",
        "X_train = np.expand_dims(X_train,-1)\n",
        "y_train = np.expand_dims(y_train,-1)"
      ],
      "metadata": {
        "id": "o4QX5mb1c3Ii"
      },
      "execution_count": 97,
      "outputs": []
    },
    {
      "cell_type": "code",
      "source": [
        "(X_train.shape, y_train.shape)"
      ],
      "metadata": {
        "colab": {
          "base_uri": "https://localhost:8080/"
        },
        "id": "Hwg44vqWrIkw",
        "outputId": "43e2bb8f-e7a4-4539-ab01-40664168f5eb"
      },
      "execution_count": 98,
      "outputs": [
        {
          "output_type": "execute_result",
          "data": {
            "text/plain": [
              "((60000, 28, 28, 1), (60000, 10, 1))"
            ]
          },
          "metadata": {},
          "execution_count": 98
        }
      ]
    },
    {
      "cell_type": "code",
      "source": [
        "X_train.ndim"
      ],
      "metadata": {
        "colab": {
          "base_uri": "https://localhost:8080/"
        },
        "id": "V-NW1o4TsOx3",
        "outputId": "e38f3552-fea1-4168-a093-7da4536c9e2d"
      },
      "execution_count": 99,
      "outputs": [
        {
          "output_type": "execute_result",
          "data": {
            "text/plain": [
              "4"
            ]
          },
          "metadata": {},
          "execution_count": 99
        }
      ]
    },
    {
      "cell_type": "code",
      "source": [
        "# Splitting the dataset\n",
        "from sklearn.model_selection import train_test_split\n",
        "\n",
        "X_train,X_val,y_train,y_val = train_test_split(X_train,y_train,test_size=0.2)"
      ],
      "metadata": {
        "id": "aXiMUQFZsX9b"
      },
      "execution_count": 100,
      "outputs": []
    },
    {
      "cell_type": "code",
      "source": [
        "X_train.shape,X_val.shape,y_train.shape,y_val.shape"
      ],
      "metadata": {
        "colab": {
          "base_uri": "https://localhost:8080/"
        },
        "id": "ZCoU05yF3Hbj",
        "outputId": "5e06da34-60fe-4b8e-b0b7-966848db5eb7"
      },
      "execution_count": 101,
      "outputs": [
        {
          "output_type": "execute_result",
          "data": {
            "text/plain": [
              "((48000, 28, 28, 1), (12000, 28, 28, 1), (48000, 10, 1), (12000, 10, 1))"
            ]
          },
          "metadata": {},
          "execution_count": 101
        }
      ]
    },
    {
      "cell_type": "markdown",
      "source": [
        "# Building the CNN Model"
      ],
      "metadata": {
        "id": "hZQdplee3h6U"
      }
    },
    {
      "cell_type": "code",
      "source": [
        "model=keras.models.Sequential([\n",
        "                              #Adding the first convulational layer\n",
        "                              keras.layers.Conv2D(filters=32,kernel_size=3,strides=(1,1),padding='same' ,activation='relu',input_shape=[28,28,1]),\n",
        "                              keras.layers.MaxPooling2D(pool_size=(2,2)),\n",
        "\n",
        "                              #Adding the second convulational layer\n",
        "                              keras.layers.Conv2D(filters=64,kernel_size=3,strides=(1,1),padding='same' ,activation='relu'),\n",
        "                              keras.layers.MaxPooling2D(pool_size=(2,2)),\n",
        "                              keras.layers.Flatten(),\n",
        "\n",
        "                              #Adding the hidden layers\n",
        "                              keras.layers.Dense(units=128,activation='relu'),\n",
        "                              keras.layers.BatchNormalization(),\n",
        "                              keras.layers.Dropout(rate=0.1),\n",
        "\n",
        "                              #Adding another hidden layers\n",
        "                              keras.layers.Dense(units=256,activation='relu'),\n",
        "                              keras.layers.BatchNormalization(),\n",
        "                              keras.layers.Dropout(rate=0.5),\n",
        "\n",
        "                              #Adding the output layer\n",
        "                              keras.layers.Dense(units=10,activation='softmax')\n",
        "\n",
        "])"
      ],
      "metadata": {
        "id": "Z2H9ODfa3Spl"
      },
      "execution_count": 102,
      "outputs": []
    },
    {
      "cell_type": "code",
      "source": [
        "# Compiling the model.\n",
        "\n",
        "optm= keras.optimizers.Adam(learning_rate=0.001)\n",
        "\n",
        "model.compile(optimizer=optm,loss='categorical_crossentropy',metrics=['accuracy'])\n",
        "\n",
        "#We can add data augumentation here only to overcome the risk of model overfitting\n",
        "\n",
        "from keras.preprocessing.image import ImageDataGenerator\n",
        "\n",
        "datagen = ImageDataGenerator(rotation_range=0.11, width_shift_range=0.1,height_shift_range=0.1)\n",
        "train_generator= datagen.flow(X_train,y_train)\n"
      ],
      "metadata": {
        "id": "iKonx4Qo3dVe"
      },
      "execution_count": 103,
      "outputs": []
    },
    {
      "cell_type": "code",
      "source": [
        "# Training the model with the fit method.\n",
        "\n",
        "model.fit(train_generator,batch_size=500,epochs=20,validation_data=(X_val,y_val))"
      ],
      "metadata": {
        "colab": {
          "base_uri": "https://localhost:8080/"
        },
        "id": "rCnni7GuGvWQ",
        "outputId": "0b8d85a4-379a-4cf8-9711-a0cf67c37a8b"
      },
      "execution_count": 104,
      "outputs": [
        {
          "output_type": "stream",
          "name": "stdout",
          "text": [
            "Epoch 1/20\n",
            "1500/1500 [==============================] - 24s 15ms/step - loss: 0.6709 - accuracy: 0.7590 - val_loss: 0.5052 - val_accuracy: 0.8115\n",
            "Epoch 2/20\n",
            "1500/1500 [==============================] - 21s 14ms/step - loss: 0.4537 - accuracy: 0.8329 - val_loss: 0.3706 - val_accuracy: 0.8691\n",
            "Epoch 3/20\n",
            "1500/1500 [==============================] - 20s 13ms/step - loss: 0.4040 - accuracy: 0.8525 - val_loss: 0.3187 - val_accuracy: 0.8838\n",
            "Epoch 4/20\n",
            "1500/1500 [==============================] - 21s 14ms/step - loss: 0.3778 - accuracy: 0.8623 - val_loss: 0.2905 - val_accuracy: 0.8896\n",
            "Epoch 5/20\n",
            "1500/1500 [==============================] - 20s 13ms/step - loss: 0.3545 - accuracy: 0.8702 - val_loss: 0.2636 - val_accuracy: 0.9021\n",
            "Epoch 6/20\n",
            "1500/1500 [==============================] - 21s 14ms/step - loss: 0.3447 - accuracy: 0.8738 - val_loss: 0.2752 - val_accuracy: 0.8951\n",
            "Epoch 7/20\n",
            "1500/1500 [==============================] - 21s 14ms/step - loss: 0.3284 - accuracy: 0.8786 - val_loss: 0.2682 - val_accuracy: 0.8996\n",
            "Epoch 8/20\n",
            "1500/1500 [==============================] - 21s 14ms/step - loss: 0.3186 - accuracy: 0.8821 - val_loss: 0.2449 - val_accuracy: 0.9093\n",
            "Epoch 9/20\n",
            "1500/1500 [==============================] - 21s 14ms/step - loss: 0.3080 - accuracy: 0.8874 - val_loss: 0.2461 - val_accuracy: 0.9076\n",
            "Epoch 10/20\n",
            "1500/1500 [==============================] - 21s 14ms/step - loss: 0.3044 - accuracy: 0.8879 - val_loss: 0.2409 - val_accuracy: 0.9080\n",
            "Epoch 11/20\n",
            "1500/1500 [==============================] - 21s 14ms/step - loss: 0.2946 - accuracy: 0.8921 - val_loss: 0.2307 - val_accuracy: 0.9126\n",
            "Epoch 12/20\n",
            "1500/1500 [==============================] - 20s 13ms/step - loss: 0.2892 - accuracy: 0.8937 - val_loss: 0.2340 - val_accuracy: 0.9136\n",
            "Epoch 13/20\n",
            "1500/1500 [==============================] - 21s 14ms/step - loss: 0.2842 - accuracy: 0.8944 - val_loss: 0.2297 - val_accuracy: 0.9157\n",
            "Epoch 14/20\n",
            "1500/1500 [==============================] - 21s 14ms/step - loss: 0.2832 - accuracy: 0.8968 - val_loss: 0.2698 - val_accuracy: 0.8988\n",
            "Epoch 15/20\n",
            "1500/1500 [==============================] - 21s 14ms/step - loss: 0.2727 - accuracy: 0.8997 - val_loss: 0.2253 - val_accuracy: 0.9152\n",
            "Epoch 16/20\n",
            "1500/1500 [==============================] - 20s 14ms/step - loss: 0.2711 - accuracy: 0.8992 - val_loss: 0.2145 - val_accuracy: 0.9205\n",
            "Epoch 17/20\n",
            "1500/1500 [==============================] - 21s 14ms/step - loss: 0.2639 - accuracy: 0.9022 - val_loss: 0.2142 - val_accuracy: 0.9222\n",
            "Epoch 18/20\n",
            "1500/1500 [==============================] - 21s 14ms/step - loss: 0.2624 - accuracy: 0.9037 - val_loss: 0.2130 - val_accuracy: 0.9225\n",
            "Epoch 19/20\n",
            "1500/1500 [==============================] - 21s 14ms/step - loss: 0.2594 - accuracy: 0.9035 - val_loss: 0.2181 - val_accuracy: 0.9204\n",
            "Epoch 20/20\n",
            "1500/1500 [==============================] - 22s 14ms/step - loss: 0.2540 - accuracy: 0.9053 - val_loss: 0.2114 - val_accuracy: 0.9204\n"
          ]
        },
        {
          "output_type": "execute_result",
          "data": {
            "text/plain": [
              "<keras.src.callbacks.History at 0x7ccd0ee87100>"
            ]
          },
          "metadata": {},
          "execution_count": 104
        }
      ]
    },
    {
      "cell_type": "markdown",
      "source": [
        "# Testing the model now"
      ],
      "metadata": {
        "id": "SmdgihWsohuq"
      }
    },
    {
      "cell_type": "code",
      "source": [
        "label_classes = ['T-shirt/top','Trouser','Pullover','Dress','Coat','Sandal','Sneaker','Bag','Ankle boot']\n",
        "\n",
        "\n",
        "# Label\tDescription\n",
        "# 0\tT-shirt/top\n",
        "# 1\tTrouser\n",
        "# 2\tPullover\n",
        "# 3\tDress\n",
        "# 4\tCoat\n",
        "# 5\tSandal\n",
        "# 6\tShirt\n",
        "# 7\tSneaker\n",
        "# 8\tBag\n",
        "# 9\tAnkle boot"
      ],
      "metadata": {
        "id": "sJmXWHsfHR2f"
      },
      "execution_count": 105,
      "outputs": []
    },
    {
      "cell_type": "code",
      "source": [
        "# model.predict(X_test.round(),y_test)"
      ],
      "metadata": {
        "id": "vIbUPROFvpan"
      },
      "execution_count": 116,
      "outputs": []
    },
    {
      "cell_type": "code",
      "source": [
        "X_test.shape,y_test.shape"
      ],
      "metadata": {
        "colab": {
          "base_uri": "https://localhost:8080/"
        },
        "id": "AAlUllX622U7",
        "outputId": "0b3fcf94-2a52-4640-b5cd-f47d5ab2d547"
      },
      "execution_count": 117,
      "outputs": [
        {
          "output_type": "execute_result",
          "data": {
            "text/plain": [
              "((10000, 28, 28), (10000, 10))"
            ]
          },
          "metadata": {},
          "execution_count": 117
        }
      ]
    },
    {
      "cell_type": "code",
      "source": [
        "# Prediction by model based on test dataset is ankle boot\n",
        "\n",
        "np.argmax(model.predict(np.expand_dims(X_test[0],axis=0)).round())"
      ],
      "metadata": {
        "colab": {
          "base_uri": "https://localhost:8080/"
        },
        "id": "fSAn2msvots6",
        "outputId": "834405e4-c0bb-4d02-8427-624286766c85"
      },
      "execution_count": 118,
      "outputs": [
        {
          "output_type": "stream",
          "name": "stdout",
          "text": [
            "1/1 [==============================] - 0s 96ms/step\n"
          ]
        },
        {
          "output_type": "execute_result",
          "data": {
            "text/plain": [
              "9"
            ]
          },
          "metadata": {},
          "execution_count": 118
        }
      ]
    },
    {
      "cell_type": "code",
      "source": [
        "# Reality of the dataset which is true value\n",
        "\n",
        "np.argmax(y_test[0])"
      ],
      "metadata": {
        "colab": {
          "base_uri": "https://localhost:8080/"
        },
        "id": "Wftkln4sqNkt",
        "outputId": "18cced7c-26cd-4703-c99f-1d1e59be5d29"
      },
      "execution_count": 119,
      "outputs": [
        {
          "output_type": "execute_result",
          "data": {
            "text/plain": [
              "9"
            ]
          },
          "metadata": {},
          "execution_count": 119
        }
      ]
    },
    {
      "cell_type": "code",
      "source": [
        "# Again checking Prediction by model based on test dataset is shirt\n",
        "\n",
        "np.argmax(model.predict(np.expand_dims(X_test[101],axis=0)).round())"
      ],
      "metadata": {
        "colab": {
          "base_uri": "https://localhost:8080/"
        },
        "id": "UCjBBJAiqxJ3",
        "outputId": "7f6e5d31-969a-474d-b03c-5a1a49c8024f"
      },
      "execution_count": 120,
      "outputs": [
        {
          "output_type": "stream",
          "name": "stdout",
          "text": [
            "1/1 [==============================] - 0s 30ms/step\n"
          ]
        },
        {
          "output_type": "execute_result",
          "data": {
            "text/plain": [
              "6"
            ]
          },
          "metadata": {},
          "execution_count": 120
        }
      ]
    },
    {
      "cell_type": "code",
      "source": [
        "# Reality of the dataset which is true value\n",
        "\n",
        "np.argmax(y_test[101])"
      ],
      "metadata": {
        "colab": {
          "base_uri": "https://localhost:8080/"
        },
        "id": "kjDe7JE5rSei",
        "outputId": "87a42a4f-1286-45ce-9340-1e127905158a"
      },
      "execution_count": 121,
      "outputs": [
        {
          "output_type": "execute_result",
          "data": {
            "text/plain": [
              "6"
            ]
          },
          "metadata": {},
          "execution_count": 121
        }
      ]
    },
    {
      "cell_type": "code",
      "source": [
        "y_pred= model.predict(X_test).round()\n",
        "y_pred"
      ],
      "metadata": {
        "colab": {
          "base_uri": "https://localhost:8080/"
        },
        "id": "spA6VzQVrjDp",
        "outputId": "daac8370-ce9f-46b4-ce6e-cb310ccd7d5e"
      },
      "execution_count": 122,
      "outputs": [
        {
          "output_type": "stream",
          "name": "stdout",
          "text": [
            "313/313 [==============================] - 1s 4ms/step\n"
          ]
        },
        {
          "output_type": "execute_result",
          "data": {
            "text/plain": [
              "array([[0., 0., 0., ..., 0., 0., 1.],\n",
              "       [0., 0., 1., ..., 0., 0., 0.],\n",
              "       [0., 1., 0., ..., 0., 0., 0.],\n",
              "       ...,\n",
              "       [0., 0., 0., ..., 0., 1., 0.],\n",
              "       [0., 1., 0., ..., 0., 0., 0.],\n",
              "       [0., 0., 0., ..., 0., 0., 0.]], dtype=float32)"
            ]
          },
          "metadata": {},
          "execution_count": 122
        }
      ]
    },
    {
      "cell_type": "code",
      "source": [
        "y_test_labels = [np.argmax(y) for y in y_test]\n",
        "\n",
        "y_pred_labels = [np.argmax(x) for x in y_pred]"
      ],
      "metadata": {
        "id": "cOU81AgeuUF4"
      },
      "execution_count": 123,
      "outputs": []
    },
    {
      "cell_type": "code",
      "source": [
        "# Checking the accuracy of the model from Confusion Matrix\n",
        "\n",
        "from sklearn.metrics import confusion_matrix\n",
        "\n",
        "cm =confusion_matrix(y_test_labels,y_pred_labels)\n",
        "cm"
      ],
      "metadata": {
        "colab": {
          "base_uri": "https://localhost:8080/"
        },
        "id": "oSM7DLmwubU4",
        "outputId": "fd064f6f-cf3b-4f37-b25c-881cde54c2cd"
      },
      "execution_count": 127,
      "outputs": [
        {
          "output_type": "execute_result",
          "data": {
            "text/plain": [
              "array([[860,   1,  10,   8,   1,   0, 110,   0,  10,   0],\n",
              "       [  5, 988,   0,   5,   1,   0,   0,   0,   1,   0],\n",
              "       [ 44,   1, 809,   3,  64,   0,  78,   0,   1,   0],\n",
              "       [ 52,  10,   5, 875,  26,   0,  29,   0,   3,   0],\n",
              "       [ 25,   1,  48,  12, 869,   0,  45,   0,   0,   0],\n",
              "       [  1,   0,   0,   0,   0, 988,   0,  10,   0,   1],\n",
              "       [125,   1,  26,   9,  70,   0, 761,   0,   8,   0],\n",
              "       [  0,   0,   0,   0,   0,  13,   0, 978,   0,   9],\n",
              "       [  5,   0,   0,   0,   0,   1,   1,   0, 993,   0],\n",
              "       [  1,   0,   0,   0,   0,  10,   0,  36,   0, 953]])"
            ]
          },
          "metadata": {},
          "execution_count": 127
        }
      ]
    },
    {
      "cell_type": "code",
      "source": [
        "#Plotting the confusion matrix heatmap\n",
        "\n",
        "plt.figure(figsize=(15,8))\n",
        "sns.heatmap(cm,annot=True,fmt='d',xticklabels=label_classes,yticklabels=label_classes)"
      ],
      "metadata": {
        "colab": {
          "base_uri": "https://localhost:8080/",
          "height": 698
        },
        "id": "kZignvcs5e6o",
        "outputId": "fd3de515-ca56-45d6-c0f7-ea381ae624bf"
      },
      "execution_count": 136,
      "outputs": [
        {
          "output_type": "execute_result",
          "data": {
            "text/plain": [
              "<Axes: >"
            ]
          },
          "metadata": {},
          "execution_count": 136
        },
        {
          "output_type": "display_data",
          "data": {
            "text/plain": [
              "<Figure size 1500x800 with 2 Axes>"
            ],
            "image/png": "[encoded data removed]"
          },
          "metadata": {}
        }
      ]
    },
    {
      "cell_type": "code",
      "source": [
        "#Checking the full report of the data\n",
        "\n",
        "# Label\tDescription\n",
        "# 0\tT-shirt/top\n",
        "# 1\tTrouser\n",
        "# 2\tPullover\n",
        "# 3\tDress\n",
        "# 4\tCoat\n",
        "# 5\tSandal\n",
        "# 6\tShirt\n",
        "# 7\tSneaker\n",
        "# 8\tBag\n",
        "# 9\tAnkle boot\n",
        "\n",
        "print(classification_report(y_test_labels,y_pred_labels))"
      ],
      "metadata": {
        "colab": {
          "base_uri": "https://localhost:8080/"
        },
        "id": "sGKV1ZTm6HEh",
        "outputId": "968dce49-a56b-4c64-91e6-5b1df2ab674f"
      },
      "execution_count": 137,
      "outputs": [
        {
          "output_type": "stream",
          "name": "stdout",
          "text": [
            "              precision    recall  f1-score   support\n",
            "\n",
            "           0       0.77      0.86      0.81      1000\n",
            "           1       0.99      0.99      0.99      1000\n",
            "           2       0.90      0.81      0.85      1000\n",
            "           3       0.96      0.88      0.92      1000\n",
            "           4       0.84      0.87      0.86      1000\n",
            "           5       0.98      0.99      0.98      1000\n",
            "           6       0.74      0.76      0.75      1000\n",
            "           7       0.96      0.98      0.97      1000\n",
            "           8       0.98      0.99      0.99      1000\n",
            "           9       0.99      0.95      0.97      1000\n",
            "\n",
            "    accuracy                           0.91     10000\n",
            "   macro avg       0.91      0.91      0.91     10000\n",
            "weighted avg       0.91      0.91      0.91     10000\n",
            "\n"
          ]
        }
      ]
    },
    {
      "cell_type": "code",
      "source": [
        "# Saving the model\n",
        "\n",
        "model.save('/content/MNIST_2023.h5')"
      ],
      "metadata": {
        "colab": {
          "base_uri": "https://localhost:8080/"
        },
        "id": "bdzpSCkL7L49",
        "outputId": "6c68b3e3-6144-4c46-bcc1-29617840d075"
      },
      "execution_count": 140,
      "outputs": [
        {
          "output_type": "stream",
          "name": "stderr",
          "text": [
            "/usr/local/lib/python3.10/dist-packages/keras/src/engine/training.py:3103: UserWarning: You are saving your model as an HDF5 file via `model.save()`. This file format is considered legacy. We recommend using instead the native Keras format, e.g. `model.save('my_model.keras')`.\n",
            "  saving_api.save_model(\n"
          ]
        }
      ]
    },
    {
      "cell_type": "code",
      "source": [
        "# Deploying the model with name model_deploy\n",
        "\n",
        "\n",
        "model_deploy = keras.models.load_model('/content/MNIST_2023.h5')"
      ],
      "metadata": {
        "id": "P0QhRvcP8D0K"
      },
      "execution_count": 141,
      "outputs": []
    },
    {
      "cell_type": "code",
      "source": [
        "#Checking if the model deploy is working correctly\n",
        "\n",
        "np.argmax(model_deploy.predict(np.expand_dims(X_test[11],axis=0)).round())"
      ],
      "metadata": {
        "colab": {
          "base_uri": "https://localhost:8080/"
        },
        "id": "sx9HGmSi8EJW",
        "outputId": "2ae399c5-c2f0-4592-eea6-1563c00cebf6"
      },
      "execution_count": 151,
      "outputs": [
        {
          "output_type": "stream",
          "name": "stdout",
          "text": [
            "1/1 [==============================] - 0s 31ms/step\n"
          ]
        },
        {
          "output_type": "execute_result",
          "data": {
            "text/plain": [
              "5"
            ]
          },
          "metadata": {},
          "execution_count": 151
        }
      ]
    },
    {
      "cell_type": "code",
      "source": [
        "np.argmax(y_test[11])"
      ],
      "metadata": {
        "colab": {
          "base_uri": "https://localhost:8080/"
        },
        "id": "lUoxSv-m8EMh",
        "outputId": "da0cb7cc-1445-4352-bbe3-7c8c29d2caac"
      },
      "execution_count": 153,
      "outputs": [
        {
          "output_type": "execute_result",
          "data": {
            "text/plain": [
              "5"
            ]
          },
          "metadata": {},
          "execution_count": 153
        }
      ]
    },
    {
      "cell_type": "code",
      "source": [],
      "metadata": {
        "id": "nMekMsDA8EP2"
      },
      "execution_count": null,
      "outputs": []
    },
    {
      "cell_type": "code",
      "source": [],
      "metadata": {
        "id": "SFUzjOpx8ETF"
      },
      "execution_count": null,
      "outputs": []
    },
    {
      "cell_type": "code",
      "source": [],
      "metadata": {
        "id": "75VYYg_V8EWQ"
      },
      "execution_count": null,
      "outputs": []
    }
  ]
}